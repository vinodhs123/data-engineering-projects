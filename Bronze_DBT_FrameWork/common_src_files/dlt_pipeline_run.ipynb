{
 "cells": [
  {
   "cell_type": "code",
   "execution_count": 0,
   "metadata": {
    "application/vnd.databricks.v1+cell": {
     "cellMetadata": {},
     "inputWidgets": {},
     "nuid": "d5bfc927-b398-4fb3-b8d1-a9208a90faf4",
     "showTitle": false,
     "tableResultSettingsMap": {},
     "title": ""
    }
   },
   "outputs": [],
   "source": [
    "from utils.dataflow_pipeline import DataflowPipeline"
   ]
  },
  {
   "cell_type": "code",
   "execution_count": 0,
   "metadata": {
    "application/vnd.databricks.v1+cell": {
     "cellMetadata": {},
     "inputWidgets": {},
     "nuid": "1ab91e84-4c37-4b98-aec1-7435369ec556",
     "showTitle": false,
     "tableResultSettingsMap": {},
     "title": ""
    }
   },
   "outputs": [],
   "source": [
    "import sys\n",
    "sys.path.append(spark.conf.get(\"bundle.sourcePath\", \".\"))\n",
    "spark.conf.set(\"layer\", 'bronze')\n",
    "\n",
    "dataflowspec_table = spark.conf.get(\"spark.bronze.dataflowspecTable\")\n",
    "group = spark.conf.get(\"spark.bronze.group\")\n",
    "\n",
    "spark.conf.set('bronze.dataflowspecTable',dataflowspec_table)\n",
    "spark.conf.set('bronze.group',group)\n",
    "# spark.conf.set('bronze.group',group)\n",
    "\n",
    "\n"
   ]
  },
  {
   "cell_type": "code",
   "execution_count": null,
   "metadata": {},
   "outputs": [],
   "source": [
    "# Enable CDC for Delta tables (add CDC properties)\n",
    "spark.conf.set(\"delta.change.data.capture\", \"true\")  # This enables CDC for the Delta tables in this pipeline"
   ]
  },
  {
   "cell_type": "code",
   "execution_count": 0,
   "metadata": {
    "application/vnd.databricks.v1+cell": {
     "cellMetadata": {},
     "inputWidgets": {},
     "nuid": "2ebbd42d-384d-4ec0-9c0f-4aae8e11f5f3",
     "showTitle": false,
     "tableResultSettingsMap": {},
     "title": ""
    }
   },
   "outputs": [],
   "source": [
    "\n",
    "layer = spark.conf.get(\"layer\", None)\n",
    "DataflowPipeline.invoke_dlt_pipeline(spark, layer)"
   ]
  },
  {
   "cell_type": "code",
   "execution_count": 0,
   "metadata": {
    "application/vnd.databricks.v1+cell": {
     "cellMetadata": {},
     "inputWidgets": {},
     "nuid": "fa0b4f13-43a5-4ba2-9628-adbc9fb32b9b",
     "showTitle": false,
     "tableResultSettingsMap": {},
     "title": ""
    }
   },
   "outputs": [],
   "source": []
  }
 ],
 "metadata": {
  "application/vnd.databricks.v1+notebook": {
   "dashboards": [],
   "environmentMetadata": null,
   "language": "python",
   "notebookMetadata": {
    "pythonIndentUnit": 2
   },
   "notebookName": "dlt_pipeline_run",
   "widgets": {}
  },
  "kernelspec": {
   "display_name": "Python 3",
   "language": "python",
   "name": "python3"
  },
  "language_info": {
   "name": "python"
  }
 },
 "nbformat": 4,
 "nbformat_minor": 0
}

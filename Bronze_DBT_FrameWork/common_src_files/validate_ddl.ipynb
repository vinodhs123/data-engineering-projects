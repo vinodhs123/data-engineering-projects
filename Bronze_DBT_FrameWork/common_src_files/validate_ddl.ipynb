{
 "cells": [
  {
   "cell_type": "code",
   "execution_count": null,
   "metadata": {},
   "outputs": [],
   "source": [
    "output_path = dbutils.widgets.get(\"DDL_file_path\")"
   ]
  },
  {
   "cell_type": "code",
   "execution_count": null,
   "metadata": {},
   "outputs": [],
   "source": [
    "import pyspark.sql.types as T\n",
    "import os\n",
    "import json\n",
    "def __get_bronze_schema(metadata_file):\n",
    "    print(metadata_file)\n",
    "    ddlSchemaStr = spark.read.text(paths=metadata_file, wholetext=True).collect()[0][\"value\"]\n",
    "    spark_schema = T._parse_datatype_string(ddlSchemaStr)\n",
    "    schema = json.dumps(spark_schema.jsonValue())\n",
    "    return schema\n",
    "\n",
    "dir_path = output_path\n",
    "file_list = os.listdir(dir_path)\n",
    "print(\"output_path:\",output_path)\n",
    "print(\"file_list:\",file_list)\n",
    "for i in file_list:\n",
    "    try:\n",
    "        ss = __get_bronze_schema(os.path.join(f\"{output_path}\",i))\n",
    "        print(ss)\n",
    "\n",
    "    except Exception as e:\n",
    "        print(f\"failed for {i}\")\n",
    "        # print(e)"
   ]
  }
 ],
 "metadata": {
  "kernelspec": {
   "display_name": "Python 3",
   "language": "python",
   "name": "python3"
  },
  "language_info": {
   "name": "python",
   "version": "3.12.1"
  }
 },
 "nbformat": 4,
 "nbformat_minor": 2
}

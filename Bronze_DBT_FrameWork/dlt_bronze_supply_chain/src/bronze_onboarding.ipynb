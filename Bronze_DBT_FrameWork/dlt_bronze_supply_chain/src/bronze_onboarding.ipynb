{
 "cells": [
  {
   "cell_type": "code",
   "execution_count": 7,
   "metadata": {},
   "outputs": [
    {
     "ename": "ModuleNotFoundError",
     "evalue": "No module named 'dlt'",
     "output_type": "error",
     "traceback": [
      "\u001b[1;31m---------------------------------------------------------------------------\u001b[0m",
      "\u001b[1;31mModuleNotFoundError\u001b[0m                       Traceback (most recent call last)",
      "Cell \u001b[1;32mIn[7], line 1\u001b[0m\n\u001b[1;32m----> 1\u001b[0m \u001b[38;5;28;01mfrom\u001b[39;00m \u001b[38;5;21;01mutils\u001b[39;00m\u001b[38;5;21;01m.\u001b[39;00m\u001b[38;5;21;01mdataflow_pipeline\u001b[39;00m \u001b[38;5;28;01mimport\u001b[39;00m DataflowPipeline\n\u001b[0;32m      2\u001b[0m \u001b[38;5;28;01mfrom\u001b[39;00m \u001b[38;5;21;01mutils\u001b[39;00m\u001b[38;5;21;01m.\u001b[39;00m\u001b[38;5;21;01monboard_dataflowspec\u001b[39;00m \u001b[38;5;28;01mimport\u001b[39;00m OnboardDataflowspec\n",
      "File \u001b[1;32md:\\Clients\\mccain\\databricks\\dlt_asset_bundle_shibu\\src\\utils\\dataflow_pipeline.py:4\u001b[0m\n\u001b[0;32m      2\u001b[0m \u001b[38;5;28;01mimport\u001b[39;00m \u001b[38;5;21;01mjson\u001b[39;00m\n\u001b[0;32m      3\u001b[0m \u001b[38;5;28;01mimport\u001b[39;00m \u001b[38;5;21;01mlogging\u001b[39;00m\n\u001b[1;32m----> 4\u001b[0m \u001b[38;5;28;01mimport\u001b[39;00m \u001b[38;5;21;01mdlt\u001b[39;00m\n\u001b[0;32m      5\u001b[0m \u001b[38;5;28;01mfrom\u001b[39;00m \u001b[38;5;21;01mpyspark\u001b[39;00m\u001b[38;5;21;01m.\u001b[39;00m\u001b[38;5;21;01msql\u001b[39;00m \u001b[38;5;28;01mimport\u001b[39;00m DataFrame\n\u001b[0;32m      6\u001b[0m \u001b[38;5;28;01mfrom\u001b[39;00m \u001b[38;5;21;01mpyspark\u001b[39;00m\u001b[38;5;21;01m.\u001b[39;00m\u001b[38;5;21;01msql\u001b[39;00m\u001b[38;5;21;01m.\u001b[39;00m\u001b[38;5;21;01mfunctions\u001b[39;00m \u001b[38;5;28;01mimport\u001b[39;00m expr\n",
      "\u001b[1;31mModuleNotFoundError\u001b[0m: No module named 'dlt'"
     ]
    }
   ],
   "source": [
    "from utils.dataflow_pipeline import DataflowPipeline\n",
    "from utils.onboard_dataflowspec import OnboardDataflowspec"
   ]
  },
  {
   "cell_type": "code",
   "execution_count": null,
   "metadata": {},
   "outputs": [],
   "source": [
    "onboarding_params_map = {\n",
    "\t\t\"database\":dbutils.widgets.get(\"database\"),\n",
    "\t\t\"onboarding_file_path\":dbutils.widgets.get(\"onboarding_file_path\"),\n",
    "\t\t\"bronze_dataflowspec_table\":dbutils.widgets.get(\"bronze_dataflowspec_table\"), \n",
    "\t\t\"silver_dataflowspec_table\":dbutils.widgets.get(\"silver_dataflowspec_table\"),\n",
    "\t\t\"silver_dataflowspec_path\":dbutils.widgets.get(\"silver_dataflowspec_path\"),\n",
    "  \t    \"bronze_dataflowspec_path\":dbutils.widgets.get(\"bronze_dataflowspec_path\"),\n",
    "\t\t\"overwrite\":dbutils.widgets.get(\"overwrite\"),\n",
    "\t\t\"env\":dbutils.widgets.get(\"env\"),\n",
    "\t\t\"version\":dbutils.widgets.get(\"version\"),\n",
    "\t\t\"import_author\":dbutils.widgets.get(\"import_author\")\n",
    "\t\t}\n",
    "OnboardDataflowspec(spark, onboarding_params_map,uc_enabled=True).onboard_dataflow_specs()"
   ]
  },
  {
   "cell_type": "code",
   "execution_count": null,
   "metadata": {},
   "outputs": [],
   "source": []
  }
 ],
 "metadata": {
  "kernelspec": {
   "display_name": "Python 3",
   "language": "python",
   "name": "python3"
  },
  "language_info": {
   "codemirror_mode": {
    "name": "ipython",
    "version": 3
   },
   "file_extension": ".py",
   "mimetype": "text/x-python",
   "name": "python",
   "nbconvert_exporter": "python",
   "pygments_lexer": "ipython3",
   "version": "3.10.9"
  }
 },
 "nbformat": 4,
 "nbformat_minor": 2
}

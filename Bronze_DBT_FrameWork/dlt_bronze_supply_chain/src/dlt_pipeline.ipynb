{
 "cells": [
  {
   "cell_type": "code",
   "execution_count": null,
   "metadata": {},
   "outputs": [],
   "source": [
    "from utils.dataflow_pipeline import DataflowPipeline"
   ]
  },
  {
   "cell_type": "code",
   "execution_count": null,
   "metadata": {},
   "outputs": [],
   "source": [
    "import sys\n",
    "sys.path.append(spark.conf.get(\"bundle.sourcePath\", \".\"))\n",
    "spark.conf.set(\"layer\", 'bronze')\n",
    "spark.conf.set('bronze.dataflowspecTable','mf_sap_d_bz.ecc.bronze_supplychain_dataflowspec')\n",
    "spark.conf.set('bronze.group','supplyChain')"
   ]
  },
  {
   "cell_type": "code",
   "execution_count": null,
   "metadata": {},
   "outputs": [],
   "source": [
    "\n",
    "layer = spark.conf.get(\"layer\", None)\n",
    "DataflowPipeline.invoke_dlt_pipeline(spark, layer)"
   ]
  },
  {
   "cell_type": "code",
   "execution_count": null,
   "metadata": {},
   "outputs": [],
   "source": []
  }
 ],
 "metadata": {
  "kernelspec": {
   "display_name": "Python 3",
   "language": "python",
   "name": "python3"
  },
  "language_info": {
   "name": "python",
   "version": "3.10.9"
  }
 },
 "nbformat": 4,
 "nbformat_minor": 2
}

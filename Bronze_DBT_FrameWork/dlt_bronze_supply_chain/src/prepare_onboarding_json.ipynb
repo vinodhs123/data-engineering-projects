{
 "cells": [
  {
   "cell_type": "code",
   "execution_count": 0,
   "metadata": {
    "application/vnd.databricks.v1+cell": {
     "cellMetadata": {},
     "inputWidgets": {},
     "nuid": "de3320d7-fe4f-4bd7-9f7d-d563f0b6b085",
     "showTitle": false,
     "tableResultSettingsMap": {},
     "title": ""
    }
   },
   "outputs": [],
   "source": [
    "import json\n",
    "import os\n",
    "def remove_file_path(data, keys_names):\n",
    "    if isinstance(data, dict):\n",
    "        for key,value in data.items():\n",
    "            if key in keys_names and isinstance(value,str):\n",
    "                data[key] = os.path.basename(value)\n",
    "            elif isinstance(value,dict):\n",
    "                remove_file_path(value, keys_names)\n",
    "            elif isinstance(value,list):\n",
    "                for item in value:\n",
    "                    if isinstance(item,dict):\n",
    "                        remove_file_path(item, keys_names)\n",
    "    return data\n",
    "\n",
    "def prefix_folder_path(data,folder_path):\n",
    "    if isinstance(data,dict):\n",
    "        for key,value in data.items():\n",
    "            if key in folder_path and isinstance(value,str):\n",
    "                data[key] = os.path.join(folder_path[key],value)\n",
    "            elif isinstance(value,dict):\n",
    "                prefix_folder_path(value,folder_path)\n",
    "            elif isinstance(value,list):\n",
    "                for item in value:\n",
    "                    if isinstance(item,dict):\n",
    "                        prefix_folder_path(item,folder_path)\n",
    "    return data\n",
    "\n",
    "def correct_onboard_json(volume_path):\n",
    "    combined_json = []\n",
    "    keys_to_modify = [\"source_path_dev\", \"source_schema_path\", \"bronze_table_path_dev\", \"bronze_data_quality_expectations_json_dev\", \"bronze_data_quality_expectations_json_prod\", \"bronze_table_path_prod\", \"bronze_table_path_dev\", \"bronze_quarantine_table_path_prod\", \"bronze_quarantine_table_path_dev\",\"silver_table_path_dev\", \"silver_transformation_json_dev\"]\n",
    "\n",
    "    folder_path = {\"source_path_dev\": dbutils.widgets.get(\"source_path_dev\"),\n",
    "               \"bronze_table_path_dev\":dbutils.widgets.get(\"bronze_table_path_dev\"), \n",
    "               \"source_schema_path\":dbutils.widgets.get(\"source_schema_path\"), \n",
    "               \"silver_table_path_dev\":dbutils.widgets.get(\"silver_table_path_dev\"),\n",
    "               \"filestore\":dbutils.widgets.get(\"filestore\"),\n",
    "               \"DDL_file_path\":dbutils.widgets.get(\"DDL_file_path\"),\n",
    "               \"bronze_database\":dbutils.widgets.get(\"bronze_database\"),\n",
    "               \"bronze_data_quality_expectations_json_dev\":dbutils.widgets.get(\"bronze_data_quality_expectations_json_dev\"),\n",
    "               \"bronze_data_quality_expectations_json_prod\": dbutils.widgets.get(\"bronze_data_quality_expectations_json_prod\"),\n",
    "               \"bronze_table_path_prod\":dbutils.widgets.get(\"bronze_table_path_prod\"),\n",
    "               \"bronze_quarantine_table_path_prod\": dbutils.widgets.get(\"bronze_quarantine_table_path_prod\"),\n",
    "               \"bronze_quarantine_table_path_dev\": dbutils.widgets.get(\"bronze_quarantine_table_path_dev\"),\n",
    "               \"silver_transformation_json_dev\" : dbutils.widgets.get(\"silver_transformation_json_dev\")               \n",
    "               }\n",
    "\n",
    "\n",
    "    for file_name in os.listdir(volume_path):\n",
    "        if file_name.endswith('.json'):\n",
    "            with open(os.path.join(volume_path,file_name)) as json_file:\n",
    "                data = json.load(json_file)\n",
    "                corrected_data = remove_file_path(data[0],keys_to_modify)\n",
    "                prefix_path = prefix_folder_path(corrected_data,folder_path)\n",
    "                combined_json.append(prefix_path)\n",
    "    \n",
    "    return combined_json\n"
   ]
  },
  {
   "cell_type": "code",
   "execution_count": 0,
   "metadata": {
    "application/vnd.databricks.v1+cell": {
     "cellMetadata": {},
     "inputWidgets": {},
     "nuid": "527a0296-ce99-495a-a6ed-cf794ffeb58d",
     "showTitle": false,
     "tableResultSettingsMap": {},
     "title": ""
    }
   },
   "outputs": [],
   "source": [
    "combined_json = correct_onboard_json(os.path.join(dbutils.widgets.get(\"volume_path\"), dbutils.widgets.get(\"bronze_database\")))\n",
    "\n",
    "with open(os.path.join(dbutils.widgets.get(\"volume_path\"),dbutils.widgets.get(\"combined_json_file_name\")), 'w') as outfile:\n",
    "    json.dump(combined_json, outfile)\n",
    "\n",
    "    "
   ]
  }
 ],
 "metadata": {
  "application/vnd.databricks.v1+notebook": {
   "dashboards": [],
   "environmentMetadata": null,
   "language": "python",
   "notebookMetadata": {
    "pythonIndentUnit": 2
   },
   "notebookName": "prepare_onboarding_json",
   "widgets": {}
  },
  "kernelspec": {
   "display_name": "Python 3",
   "language": "python",
   "name": "python3"
  },
  "language_info": {
   "name": "python"
  }
 },
 "nbformat": 4,
 "nbformat_minor": 0
}

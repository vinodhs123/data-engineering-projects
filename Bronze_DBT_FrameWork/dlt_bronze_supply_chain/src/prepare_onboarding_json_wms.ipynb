{
 "cells": [
  {
   "cell_type": "code",
   "execution_count": 0,
   "metadata": {
    "application/vnd.databricks.v1+cell": {
     "cellMetadata": {},
     "inputWidgets": {},
     "nuid": "de3320d7-fe4f-4bd7-9f7d-d563f0b6b085",
     "showTitle": false,
     "tableResultSettingsMap": {},
     "title": ""
    }
   },
   "outputs": [],
   "source": [
    "import json\n",
    "import os\n",
    "\n",
    "def correct_onboard_json(volume_path):\n",
    "    combined_json = []\n",
    "\n",
    "    for file_name in os.listdir(volume_path):\n",
    "        if file_name.endswith('.json'):\n",
    "            with open(os.path.join(volume_path,file_name)) as json_file:\n",
    "                data = json.load(json_file)\n",
    "                combined_json.append(data)\n",
    "    \n",
    "    return combined_json"
   ]
  },
  {
   "cell_type": "code",
   "execution_count": 0,
   "metadata": {
    "application/vnd.databricks.v1+cell": {
     "cellMetadata": {},
     "inputWidgets": {},
     "nuid": "527a0296-ce99-495a-a6ed-cf794ffeb58d",
     "showTitle": false,
     "tableResultSettingsMap": {},
     "title": ""
    }
   },
   "outputs": [],
   "source": [
    "combined_json = correct_onboard_json(os.path.join(dbutils.widgets.get(\"volume_path\"), dbutils.widgets.get(\"bronze_database\")))\n",
    "flat_list = [d for sublist in combined_json for d in sublist]\n",
    "with open(os.path.join(dbutils.widgets.get(\"volume_path\"),dbutils.widgets.get(\"combined_json_file_name\")), 'w') as outfile:\n",
    "    json.dump(flat_list, outfile)\n",
    "\n",
    "    "
   ]
  }
 ],
 "metadata": {
  "application/vnd.databricks.v1+notebook": {
   "dashboards": [],
   "environmentMetadata": null,
   "language": "python",
   "notebookMetadata": {
    "pythonIndentUnit": 2
   },
   "notebookName": "prepare_onboarding_json_wms",
   "widgets": {}
  },
  "kernelspec": {
   "display_name": "Python 3",
   "language": "python",
   "name": "python3"
  },
  "language_info": {
   "name": "python"
  }
 },
 "nbformat": 4,
 "nbformat_minor": 0
}
